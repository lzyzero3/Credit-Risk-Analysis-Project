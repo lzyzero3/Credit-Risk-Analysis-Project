{
 "cells": [
  {
   "cell_type": "code",
   "execution_count": 40,
   "id": "initial_id",
   "metadata": {
    "collapsed": true,
    "ExecuteTime": {
     "end_time": "2023-10-26T08:02:33.728539600Z",
     "start_time": "2023-10-26T08:02:33.693448900Z"
    }
   },
   "outputs": [],
   "source": [
    "import pandas as pd\n",
    "from sklearn.preprocessing import OneHotEncoder\n",
    "from sklearn.impute import SimpleImputer\n",
    "from sklearn.preprocessing import LabelEncoder\n",
    "from sklearn.model_selection import train_test_split\n",
    "import lightgbm as lgb\n",
    "from sklearn.metrics import accuracy_score\n",
    "from sklearn.metrics import classification_report\n",
    "from sklearn.metrics import precision_recall_fscore_support\n",
    "from sklearn.linear_model import LogisticRegression\n"
   ]
  },
  {
   "cell_type": "code",
   "execution_count": 41,
   "outputs": [
    {
     "data": {
      "text/plain": "   person_age  person_income person_home_ownership  person_emp_length  \\\n0          22          59000                  RENT              123.0   \n1          21           9600                   OWN                5.0   \n2          25           9600              MORTGAGE                1.0   \n3          23          65500                  RENT                4.0   \n4          24          54400                  RENT                8.0   \n5          21           9900                   OWN                2.0   \n6          26          77100                  RENT                8.0   \n7          24          78956                  RENT                5.0   \n8          24          83000                  RENT                8.0   \n9          21          10000                   OWN                6.0   \n\n  loan_intent loan_grade  loan_amnt  loan_int_rate  loan_status  \\\n0    PERSONAL          D      35000          16.02            1   \n1   EDUCATION          B       1000          11.14            0   \n2     MEDICAL          C       5500          12.87            1   \n3     MEDICAL          C      35000          15.23            1   \n4     MEDICAL          C      35000          14.27            1   \n5     VENTURE          A       2500           7.14            1   \n6   EDUCATION          B      35000          12.42            1   \n7     MEDICAL          B      35000          11.11            1   \n8    PERSONAL          A      35000           8.90            1   \n9     VENTURE          D       1600          14.74            1   \n\n   loan_percent_income cb_person_default_on_file  cb_person_cred_hist_length  \n0                 0.59                         Y                           3  \n1                 0.10                         N                           2  \n2                 0.57                         N                           3  \n3                 0.53                         N                           2  \n4                 0.55                         Y                           4  \n5                 0.25                         N                           2  \n6                 0.45                         N                           3  \n7                 0.44                         N                           4  \n8                 0.42                         N                           2  \n9                 0.16                         N                           3  ",
      "text/html": "<div>\n<style scoped>\n    .dataframe tbody tr th:only-of-type {\n        vertical-align: middle;\n    }\n\n    .dataframe tbody tr th {\n        vertical-align: top;\n    }\n\n    .dataframe thead th {\n        text-align: right;\n    }\n</style>\n<table border=\"1\" class=\"dataframe\">\n  <thead>\n    <tr style=\"text-align: right;\">\n      <th></th>\n      <th>person_age</th>\n      <th>person_income</th>\n      <th>person_home_ownership</th>\n      <th>person_emp_length</th>\n      <th>loan_intent</th>\n      <th>loan_grade</th>\n      <th>loan_amnt</th>\n      <th>loan_int_rate</th>\n      <th>loan_status</th>\n      <th>loan_percent_income</th>\n      <th>cb_person_default_on_file</th>\n      <th>cb_person_cred_hist_length</th>\n    </tr>\n  </thead>\n  <tbody>\n    <tr>\n      <th>0</th>\n      <td>22</td>\n      <td>59000</td>\n      <td>RENT</td>\n      <td>123.0</td>\n      <td>PERSONAL</td>\n      <td>D</td>\n      <td>35000</td>\n      <td>16.02</td>\n      <td>1</td>\n      <td>0.59</td>\n      <td>Y</td>\n      <td>3</td>\n    </tr>\n    <tr>\n      <th>1</th>\n      <td>21</td>\n      <td>9600</td>\n      <td>OWN</td>\n      <td>5.0</td>\n      <td>EDUCATION</td>\n      <td>B</td>\n      <td>1000</td>\n      <td>11.14</td>\n      <td>0</td>\n      <td>0.10</td>\n      <td>N</td>\n      <td>2</td>\n    </tr>\n    <tr>\n      <th>2</th>\n      <td>25</td>\n      <td>9600</td>\n      <td>MORTGAGE</td>\n      <td>1.0</td>\n      <td>MEDICAL</td>\n      <td>C</td>\n      <td>5500</td>\n      <td>12.87</td>\n      <td>1</td>\n      <td>0.57</td>\n      <td>N</td>\n      <td>3</td>\n    </tr>\n    <tr>\n      <th>3</th>\n      <td>23</td>\n      <td>65500</td>\n      <td>RENT</td>\n      <td>4.0</td>\n      <td>MEDICAL</td>\n      <td>C</td>\n      <td>35000</td>\n      <td>15.23</td>\n      <td>1</td>\n      <td>0.53</td>\n      <td>N</td>\n      <td>2</td>\n    </tr>\n    <tr>\n      <th>4</th>\n      <td>24</td>\n      <td>54400</td>\n      <td>RENT</td>\n      <td>8.0</td>\n      <td>MEDICAL</td>\n      <td>C</td>\n      <td>35000</td>\n      <td>14.27</td>\n      <td>1</td>\n      <td>0.55</td>\n      <td>Y</td>\n      <td>4</td>\n    </tr>\n    <tr>\n      <th>5</th>\n      <td>21</td>\n      <td>9900</td>\n      <td>OWN</td>\n      <td>2.0</td>\n      <td>VENTURE</td>\n      <td>A</td>\n      <td>2500</td>\n      <td>7.14</td>\n      <td>1</td>\n      <td>0.25</td>\n      <td>N</td>\n      <td>2</td>\n    </tr>\n    <tr>\n      <th>6</th>\n      <td>26</td>\n      <td>77100</td>\n      <td>RENT</td>\n      <td>8.0</td>\n      <td>EDUCATION</td>\n      <td>B</td>\n      <td>35000</td>\n      <td>12.42</td>\n      <td>1</td>\n      <td>0.45</td>\n      <td>N</td>\n      <td>3</td>\n    </tr>\n    <tr>\n      <th>7</th>\n      <td>24</td>\n      <td>78956</td>\n      <td>RENT</td>\n      <td>5.0</td>\n      <td>MEDICAL</td>\n      <td>B</td>\n      <td>35000</td>\n      <td>11.11</td>\n      <td>1</td>\n      <td>0.44</td>\n      <td>N</td>\n      <td>4</td>\n    </tr>\n    <tr>\n      <th>8</th>\n      <td>24</td>\n      <td>83000</td>\n      <td>RENT</td>\n      <td>8.0</td>\n      <td>PERSONAL</td>\n      <td>A</td>\n      <td>35000</td>\n      <td>8.90</td>\n      <td>1</td>\n      <td>0.42</td>\n      <td>N</td>\n      <td>2</td>\n    </tr>\n    <tr>\n      <th>9</th>\n      <td>21</td>\n      <td>10000</td>\n      <td>OWN</td>\n      <td>6.0</td>\n      <td>VENTURE</td>\n      <td>D</td>\n      <td>1600</td>\n      <td>14.74</td>\n      <td>1</td>\n      <td>0.16</td>\n      <td>N</td>\n      <td>3</td>\n    </tr>\n  </tbody>\n</table>\n</div>"
     },
     "execution_count": 41,
     "metadata": {},
     "output_type": "execute_result"
    }
   ],
   "source": [
    "data = pd.read_csv('credit_risk_dataset.csv')\n",
    "data.head(10)"
   ],
   "metadata": {
    "collapsed": false,
    "ExecuteTime": {
     "end_time": "2023-10-26T08:02:34.034881300Z",
     "start_time": "2023-10-26T08:02:33.981519300Z"
    }
   },
   "id": "28b0a41c4f60d80f"
  },
  {
   "cell_type": "markdown",
   "source": [
    "## 特征工程与数据预处理"
   ],
   "metadata": {
    "collapsed": false
   },
   "id": "d8b9e7e6924404e"
  },
  {
   "cell_type": "code",
   "execution_count": 42,
   "outputs": [
    {
     "data": {
      "text/plain": "person_age                       0\nperson_income                    0\nperson_home_ownership            0\nperson_emp_length              895\nloan_intent                      0\nloan_grade                       0\nloan_amnt                        0\nloan_int_rate                 3116\nloan_status                      0\nloan_percent_income              0\ncb_person_default_on_file        0\ncb_person_cred_hist_length       0\ndtype: int64"
     },
     "execution_count": 42,
     "metadata": {},
     "output_type": "execute_result"
    }
   ],
   "source": [
    "data_description = data.describe(include='all')\n",
    "missing_values = data.isnull().sum()\n",
    "missing_values"
   ],
   "metadata": {
    "collapsed": false,
    "ExecuteTime": {
     "end_time": "2023-10-26T08:02:34.850680300Z",
     "start_time": "2023-10-26T08:02:34.723328400Z"
    }
   },
   "id": "f1316887595236c8"
  },
  {
   "cell_type": "code",
   "execution_count": 43,
   "outputs": [
    {
     "data": {
      "text/plain": "    person_age  person_income  person_emp_length  loan_amnt  loan_int_rate  \\\n0         22.0        59000.0              123.0    35000.0          16.02   \n1         21.0         9600.0                5.0     1000.0          11.14   \n2         25.0         9600.0                1.0     5500.0          12.87   \n3         23.0        65500.0                4.0    35000.0          15.23   \n4         24.0        54400.0                8.0    35000.0          14.27   \n..         ...            ...                ...        ...            ...   \n95        23.0       120000.0                1.0    25600.0          12.69   \n96        24.0        12360.0                2.0     1600.0          13.57   \n97        22.0        60000.0                0.0    25475.0          10.99   \n98        25.0       234000.0                3.0    20000.0          14.27   \n99        24.0       234000.0                8.0    20000.0           8.88   \n\n    loan_status  loan_percent_income  cb_person_cred_hist_length  \\\n0             1                 0.59                         3.0   \n1             0                 0.10                         2.0   \n2             1                 0.57                         3.0   \n3             1                 0.53                         2.0   \n4             1                 0.55                         4.0   \n..          ...                  ...                         ...   \n95            0                 0.21                         3.0   \n96            0                 0.13                         3.0   \n97            1                 0.42                         3.0   \n98            0                 0.09                         4.0   \n99            0                 0.09                         4.0   \n\n    loan_grade_encoded  person_home_ownership_OTHER  \\\n0                    3                          0.0   \n1                    1                          0.0   \n2                    2                          0.0   \n3                    2                          0.0   \n4                    2                          0.0   \n..                 ...                          ...   \n95                   1                          0.0   \n96                   2                          0.0   \n97                   1                          0.0   \n98                   2                          0.0   \n99                   1                          0.0   \n\n    person_home_ownership_OWN  person_home_ownership_RENT  \\\n0                         0.0                         1.0   \n1                         1.0                         0.0   \n2                         0.0                         0.0   \n3                         0.0                         1.0   \n4                         0.0                         1.0   \n..                        ...                         ...   \n95                        0.0                         1.0   \n96                        1.0                         0.0   \n97                        0.0                         1.0   \n98                        0.0                         0.0   \n99                        1.0                         0.0   \n\n    loan_intent_EDUCATION  loan_intent_HOMEIMPROVEMENT  loan_intent_MEDICAL  \\\n0                     0.0                          0.0                  0.0   \n1                     1.0                          0.0                  0.0   \n2                     0.0                          0.0                  1.0   \n3                     0.0                          0.0                  1.0   \n4                     0.0                          0.0                  1.0   \n..                    ...                          ...                  ...   \n95                    1.0                          0.0                  0.0   \n96                    0.0                          0.0                  1.0   \n97                    0.0                          0.0                  0.0   \n98                    0.0                          0.0                  1.0   \n99                    0.0                          1.0                  0.0   \n\n    loan_intent_PERSONAL  loan_intent_VENTURE  cb_person_default_on_file_Y  \n0                    1.0                  0.0                          1.0  \n1                    0.0                  0.0                          0.0  \n2                    0.0                  0.0                          0.0  \n3                    0.0                  0.0                          0.0  \n4                    0.0                  0.0                          1.0  \n..                   ...                  ...                          ...  \n95                   0.0                  0.0                          0.0  \n96                   0.0                  0.0                          0.0  \n97                   0.0                  1.0                          0.0  \n98                   0.0                  0.0                          1.0  \n99                   0.0                  0.0                          0.0  \n\n[100 rows x 18 columns]",
      "text/html": "<div>\n<style scoped>\n    .dataframe tbody tr th:only-of-type {\n        vertical-align: middle;\n    }\n\n    .dataframe tbody tr th {\n        vertical-align: top;\n    }\n\n    .dataframe thead th {\n        text-align: right;\n    }\n</style>\n<table border=\"1\" class=\"dataframe\">\n  <thead>\n    <tr style=\"text-align: right;\">\n      <th></th>\n      <th>person_age</th>\n      <th>person_income</th>\n      <th>person_emp_length</th>\n      <th>loan_amnt</th>\n      <th>loan_int_rate</th>\n      <th>loan_status</th>\n      <th>loan_percent_income</th>\n      <th>cb_person_cred_hist_length</th>\n      <th>loan_grade_encoded</th>\n      <th>person_home_ownership_OTHER</th>\n      <th>person_home_ownership_OWN</th>\n      <th>person_home_ownership_RENT</th>\n      <th>loan_intent_EDUCATION</th>\n      <th>loan_intent_HOMEIMPROVEMENT</th>\n      <th>loan_intent_MEDICAL</th>\n      <th>loan_intent_PERSONAL</th>\n      <th>loan_intent_VENTURE</th>\n      <th>cb_person_default_on_file_Y</th>\n    </tr>\n  </thead>\n  <tbody>\n    <tr>\n      <th>0</th>\n      <td>22.0</td>\n      <td>59000.0</td>\n      <td>123.0</td>\n      <td>35000.0</td>\n      <td>16.02</td>\n      <td>1</td>\n      <td>0.59</td>\n      <td>3.0</td>\n      <td>3</td>\n      <td>0.0</td>\n      <td>0.0</td>\n      <td>1.0</td>\n      <td>0.0</td>\n      <td>0.0</td>\n      <td>0.0</td>\n      <td>1.0</td>\n      <td>0.0</td>\n      <td>1.0</td>\n    </tr>\n    <tr>\n      <th>1</th>\n      <td>21.0</td>\n      <td>9600.0</td>\n      <td>5.0</td>\n      <td>1000.0</td>\n      <td>11.14</td>\n      <td>0</td>\n      <td>0.10</td>\n      <td>2.0</td>\n      <td>1</td>\n      <td>0.0</td>\n      <td>1.0</td>\n      <td>0.0</td>\n      <td>1.0</td>\n      <td>0.0</td>\n      <td>0.0</td>\n      <td>0.0</td>\n      <td>0.0</td>\n      <td>0.0</td>\n    </tr>\n    <tr>\n      <th>2</th>\n      <td>25.0</td>\n      <td>9600.0</td>\n      <td>1.0</td>\n      <td>5500.0</td>\n      <td>12.87</td>\n      <td>1</td>\n      <td>0.57</td>\n      <td>3.0</td>\n      <td>2</td>\n      <td>0.0</td>\n      <td>0.0</td>\n      <td>0.0</td>\n      <td>0.0</td>\n      <td>0.0</td>\n      <td>1.0</td>\n      <td>0.0</td>\n      <td>0.0</td>\n      <td>0.0</td>\n    </tr>\n    <tr>\n      <th>3</th>\n      <td>23.0</td>\n      <td>65500.0</td>\n      <td>4.0</td>\n      <td>35000.0</td>\n      <td>15.23</td>\n      <td>1</td>\n      <td>0.53</td>\n      <td>2.0</td>\n      <td>2</td>\n      <td>0.0</td>\n      <td>0.0</td>\n      <td>1.0</td>\n      <td>0.0</td>\n      <td>0.0</td>\n      <td>1.0</td>\n      <td>0.0</td>\n      <td>0.0</td>\n      <td>0.0</td>\n    </tr>\n    <tr>\n      <th>4</th>\n      <td>24.0</td>\n      <td>54400.0</td>\n      <td>8.0</td>\n      <td>35000.0</td>\n      <td>14.27</td>\n      <td>1</td>\n      <td>0.55</td>\n      <td>4.0</td>\n      <td>2</td>\n      <td>0.0</td>\n      <td>0.0</td>\n      <td>1.0</td>\n      <td>0.0</td>\n      <td>0.0</td>\n      <td>1.0</td>\n      <td>0.0</td>\n      <td>0.0</td>\n      <td>1.0</td>\n    </tr>\n    <tr>\n      <th>...</th>\n      <td>...</td>\n      <td>...</td>\n      <td>...</td>\n      <td>...</td>\n      <td>...</td>\n      <td>...</td>\n      <td>...</td>\n      <td>...</td>\n      <td>...</td>\n      <td>...</td>\n      <td>...</td>\n      <td>...</td>\n      <td>...</td>\n      <td>...</td>\n      <td>...</td>\n      <td>...</td>\n      <td>...</td>\n      <td>...</td>\n    </tr>\n    <tr>\n      <th>95</th>\n      <td>23.0</td>\n      <td>120000.0</td>\n      <td>1.0</td>\n      <td>25600.0</td>\n      <td>12.69</td>\n      <td>0</td>\n      <td>0.21</td>\n      <td>3.0</td>\n      <td>1</td>\n      <td>0.0</td>\n      <td>0.0</td>\n      <td>1.0</td>\n      <td>1.0</td>\n      <td>0.0</td>\n      <td>0.0</td>\n      <td>0.0</td>\n      <td>0.0</td>\n      <td>0.0</td>\n    </tr>\n    <tr>\n      <th>96</th>\n      <td>24.0</td>\n      <td>12360.0</td>\n      <td>2.0</td>\n      <td>1600.0</td>\n      <td>13.57</td>\n      <td>0</td>\n      <td>0.13</td>\n      <td>3.0</td>\n      <td>2</td>\n      <td>0.0</td>\n      <td>1.0</td>\n      <td>0.0</td>\n      <td>0.0</td>\n      <td>0.0</td>\n      <td>1.0</td>\n      <td>0.0</td>\n      <td>0.0</td>\n      <td>0.0</td>\n    </tr>\n    <tr>\n      <th>97</th>\n      <td>22.0</td>\n      <td>60000.0</td>\n      <td>0.0</td>\n      <td>25475.0</td>\n      <td>10.99</td>\n      <td>1</td>\n      <td>0.42</td>\n      <td>3.0</td>\n      <td>1</td>\n      <td>0.0</td>\n      <td>0.0</td>\n      <td>1.0</td>\n      <td>0.0</td>\n      <td>0.0</td>\n      <td>0.0</td>\n      <td>0.0</td>\n      <td>1.0</td>\n      <td>0.0</td>\n    </tr>\n    <tr>\n      <th>98</th>\n      <td>25.0</td>\n      <td>234000.0</td>\n      <td>3.0</td>\n      <td>20000.0</td>\n      <td>14.27</td>\n      <td>0</td>\n      <td>0.09</td>\n      <td>4.0</td>\n      <td>2</td>\n      <td>0.0</td>\n      <td>0.0</td>\n      <td>0.0</td>\n      <td>0.0</td>\n      <td>0.0</td>\n      <td>1.0</td>\n      <td>0.0</td>\n      <td>0.0</td>\n      <td>1.0</td>\n    </tr>\n    <tr>\n      <th>99</th>\n      <td>24.0</td>\n      <td>234000.0</td>\n      <td>8.0</td>\n      <td>20000.0</td>\n      <td>8.88</td>\n      <td>0</td>\n      <td>0.09</td>\n      <td>4.0</td>\n      <td>1</td>\n      <td>0.0</td>\n      <td>1.0</td>\n      <td>0.0</td>\n      <td>0.0</td>\n      <td>1.0</td>\n      <td>0.0</td>\n      <td>0.0</td>\n      <td>0.0</td>\n      <td>0.0</td>\n    </tr>\n  </tbody>\n</table>\n<p>100 rows × 18 columns</p>\n</div>"
     },
     "execution_count": 43,
     "metadata": {},
     "output_type": "execute_result"
    }
   ],
   "source": [
    "# 分离数值和分类特征\n",
    "numeric_features = data.select_dtypes(include=['float64', 'int64']).columns.tolist()\n",
    "numeric_features.remove('loan_status')  # 移除目标列\n",
    "categorical_features = data.select_dtypes(include=['object']).columns.tolist()\n",
    "\n",
    "# 使用中位数填充数值特征的缺失值\n",
    "numeric_imputer = SimpleImputer(strategy='median')\n",
    "data[numeric_features] = numeric_imputer.fit_transform(data[numeric_features])\n",
    "\n",
    "# 使用最频繁的值填充分类特征的缺失值\n",
    "categorical_imputer = SimpleImputer(strategy='most_frequent')\n",
    "data[categorical_features] = categorical_imputer.fit_transform(data[categorical_features])\n",
    "\n",
    "# 对 loan_grade 使用标签编码\n",
    "label_encoder = LabelEncoder()\n",
    "data['loan_grade_encoded'] = label_encoder.fit_transform(data['loan_grade'])\n",
    "\n",
    "# 对其他分类特征进行独热编码\n",
    "categorical_features.remove('loan_grade')\n",
    "encoded_features = encoder.fit_transform(data[categorical_features])\n",
    "encoded_df = pd.DataFrame(encoded_features.toarray(), columns=encoder.get_feature_names_out(categorical_features))\n",
    "\n",
    "# 将编码的特征与原始数据集合并\n",
    "data_encoded_label = pd.concat([data, encoded_df], axis=1)\n",
    "data_encoded_label = data_encoded_label.drop(columns=categorical_features + ['loan_grade'])\n",
    "\n",
    "data_encoded_label.head(100)"
   ],
   "metadata": {
    "collapsed": false,
    "ExecuteTime": {
     "end_time": "2023-10-26T08:02:35.110617300Z",
     "start_time": "2023-10-26T08:02:34.931998900Z"
    }
   },
   "id": "b8eb26018a933fce"
  },
  {
   "cell_type": "markdown",
   "source": [
    "## 划分数据集并导入模型 （LightGBM）"
   ],
   "metadata": {
    "collapsed": false
   },
   "id": "d402c5a0ba66db5f"
  },
  {
   "cell_type": "code",
   "execution_count": 44,
   "outputs": [],
   "source": [
    "X_lgb = data_encoded_label.drop('loan_status', axis=1)\n",
    "y_lgb = data_encoded_label['loan_status']\n",
    "X_train_lgb, X_test_lgb, y_train_lgb, y_test_lgb = train_test_split(X_lgb, y_lgb, test_size=0.2, random_state=42)"
   ],
   "metadata": {
    "collapsed": false,
    "ExecuteTime": {
     "end_time": "2023-10-26T08:02:35.509980200Z",
     "start_time": "2023-10-26T08:02:35.464358100Z"
    }
   },
   "id": "69e57c287c9f7d69"
  },
  {
   "cell_type": "code",
   "execution_count": 45,
   "outputs": [
    {
     "name": "stdout",
     "output_type": "stream",
     "text": [
      "[LightGBM] [Info] Number of positive: 5663, number of negative: 20401\n",
      "[LightGBM] [Warning] Auto-choosing col-wise multi-threading, the overhead of testing was 0.000743 seconds.\n",
      "You can set `force_col_wise=true` to remove the overhead.\n",
      "[LightGBM] [Info] Total Bins 926\n",
      "[LightGBM] [Info] Number of data points in the train set: 26064, number of used features: 17\n",
      "[LightGBM] [Info] [binary:BoostFromScore]: pavg=0.217273 -> initscore=-1.281630\n",
      "[LightGBM] [Info] Start training from score -1.281630\n"
     ]
    }
   ],
   "source": [
    "d_train = lgb.Dataset(X_train_lgb, label=y_train_lgb)\n",
    "params = {\n",
    "    \"objective\": \"binary\",\n",
    "    \"metric\": \"binary_logloss\",\n",
    "    \"boosting_type\": \"gbdt\",\n",
    "    \"num_leaves\": 31,\n",
    "    \"learning_rate\": 0.05,\n",
    "    \"feature_fraction\": 0.9\n",
    "}\n",
    "\n",
    "clf = lgb.train(params, d_train, 100)\n"
   ],
   "metadata": {
    "collapsed": false,
    "ExecuteTime": {
     "end_time": "2023-10-26T08:02:35.803371300Z",
     "start_time": "2023-10-26T08:02:35.664243Z"
    }
   },
   "id": "7e6ba3b75cf8c143"
  },
  {
   "cell_type": "markdown",
   "source": [
    "## 评估模型结果"
   ],
   "metadata": {
    "collapsed": false
   },
   "id": "60d6e48ae0c8631b"
  },
  {
   "cell_type": "code",
   "execution_count": 46,
   "outputs": [
    {
     "data": {
      "text/plain": "0.9344790547798066"
     },
     "execution_count": 46,
     "metadata": {},
     "output_type": "execute_result"
    }
   ],
   "source": [
    "y_pred_prob = clf.predict(X_test_lgb)\n",
    "y_pred_lgb = [1 if prob >= 0.5 else 0 for prob in y_pred_prob]\n",
    "\n",
    "# 评估模型的性能\n",
    "accuracy_lgb = accuracy_score(y_test_lgb, y_pred_lgb)\n",
    "classification_rep_lgb = classification_report(y_test_lgb, y_pred_lgb)\n",
    "accuracy_lgb"
   ],
   "metadata": {
    "collapsed": false,
    "ExecuteTime": {
     "end_time": "2023-10-26T08:02:36.092393700Z",
     "start_time": "2023-10-26T08:02:36.041130600Z"
    }
   },
   "id": "51c199d6d839f402"
  },
  {
   "cell_type": "code",
   "execution_count": 47,
   "outputs": [
    {
     "data": {
      "text/plain": "   class  precision    recall    fscore  support\n0      0   0.926225  0.995071  0.959415     5072\n1      1   0.976592  0.721799  0.830084     1445",
      "text/html": "<div>\n<style scoped>\n    .dataframe tbody tr th:only-of-type {\n        vertical-align: middle;\n    }\n\n    .dataframe tbody tr th {\n        vertical-align: top;\n    }\n\n    .dataframe thead th {\n        text-align: right;\n    }\n</style>\n<table border=\"1\" class=\"dataframe\">\n  <thead>\n    <tr style=\"text-align: right;\">\n      <th></th>\n      <th>class</th>\n      <th>precision</th>\n      <th>recall</th>\n      <th>fscore</th>\n      <th>support</th>\n    </tr>\n  </thead>\n  <tbody>\n    <tr>\n      <th>0</th>\n      <td>0</td>\n      <td>0.926225</td>\n      <td>0.995071</td>\n      <td>0.959415</td>\n      <td>5072</td>\n    </tr>\n    <tr>\n      <th>1</th>\n      <td>1</td>\n      <td>0.976592</td>\n      <td>0.721799</td>\n      <td>0.830084</td>\n      <td>1445</td>\n    </tr>\n  </tbody>\n</table>\n</div>"
     },
     "execution_count": 47,
     "metadata": {},
     "output_type": "execute_result"
    }
   ],
   "source": [
    "precision, recall, fscore, support = precision_recall_fscore_support(y_test_lgb, y_pred_lgb)\n",
    "\n",
    "# 创建一个 DataFrame 来显示结果\n",
    "class_report_df = pd.DataFrame({\n",
    "    'class': [0, 1],\n",
    "    'precision': precision,\n",
    "    'recall': recall,\n",
    "    'fscore': fscore,\n",
    "    'support': support\n",
    "})\n",
    "\n",
    "class_report_df\n"
   ],
   "metadata": {
    "collapsed": false,
    "ExecuteTime": {
     "end_time": "2023-10-26T08:02:36.241300200Z",
     "start_time": "2023-10-26T08:02:36.216279700Z"
    }
   },
   "id": "8497862253318074"
  },
  {
   "cell_type": "markdown",
   "source": [
    "## 划分数据集并导入逻辑回归模型"
   ],
   "metadata": {
    "collapsed": false
   },
   "id": "fdf2296d36b01cf9"
  },
  {
   "cell_type": "code",
   "execution_count": 48,
   "outputs": [
    {
     "data": {
      "text/plain": "0.7983734847322388"
     },
     "execution_count": 48,
     "metadata": {},
     "output_type": "execute_result"
    }
   ],
   "source": [
    "# 分割数据集为训练集和测试集\n",
    "X_lr = data_encoded_label.drop('loan_status', axis=1)\n",
    "y_lr = data_encoded_label['loan_status']\n",
    "X_train_lr, X_test_lr, y_train_lr, y_test_lr = train_test_split(X_lr, y_lr, test_size=0.2, random_state=42)\n",
    "\n",
    "# 使用逻辑回归模型\n",
    "lr_label_encoded = LogisticRegression(max_iter=1000)\n",
    "lr_label_encoded.fit(X_train_lr, y_train_lr)\n",
    "\n",
    "# 在测试集上进行预测\n",
    "y_pred_lr = lr_label_encoded.predict(X_test_lr)\n",
    "\n",
    "# 评估模型的性能\n",
    "accuracy_lr = accuracy_score(y_test_lr, y_pred_lr)\n",
    "classification_rep_lr = classification_report(y_test_lr, y_pred_lr)\n",
    "\n",
    "accuracy_lr\n"
   ],
   "metadata": {
    "collapsed": false,
    "ExecuteTime": {
     "end_time": "2023-10-26T08:02:37.002650400Z",
     "start_time": "2023-10-26T08:02:36.847239700Z"
    }
   },
   "id": "593ddd97a3f1add5"
  },
  {
   "cell_type": "markdown",
   "source": [
    "## 评估模型"
   ],
   "metadata": {
    "collapsed": false
   },
   "id": "5f36f2271281d3fc"
  },
  {
   "cell_type": "code",
   "execution_count": 49,
   "outputs": [
    {
     "data": {
      "text/plain": "   class  precision    recall    fscore  support\n0      0   0.802674  0.982453  0.883511     5072\n1      1   0.711974  0.152249  0.250855     1445",
      "text/html": "<div>\n<style scoped>\n    .dataframe tbody tr th:only-of-type {\n        vertical-align: middle;\n    }\n\n    .dataframe tbody tr th {\n        vertical-align: top;\n    }\n\n    .dataframe thead th {\n        text-align: right;\n    }\n</style>\n<table border=\"1\" class=\"dataframe\">\n  <thead>\n    <tr style=\"text-align: right;\">\n      <th></th>\n      <th>class</th>\n      <th>precision</th>\n      <th>recall</th>\n      <th>fscore</th>\n      <th>support</th>\n    </tr>\n  </thead>\n  <tbody>\n    <tr>\n      <th>0</th>\n      <td>0</td>\n      <td>0.802674</td>\n      <td>0.982453</td>\n      <td>0.883511</td>\n      <td>5072</td>\n    </tr>\n    <tr>\n      <th>1</th>\n      <td>1</td>\n      <td>0.711974</td>\n      <td>0.152249</td>\n      <td>0.250855</td>\n      <td>1445</td>\n    </tr>\n  </tbody>\n</table>\n</div>"
     },
     "execution_count": 49,
     "metadata": {},
     "output_type": "execute_result"
    }
   ],
   "source": [
    "precision_lr, recall_lr, fscore_lr, support_lr = precision_recall_fscore_support(y_test_lr, y_pred_lr)\n",
    "\n",
    "class_report_df_lr = pd.DataFrame({\n",
    "    'class': [0, 1],\n",
    "    'precision': precision_lr,\n",
    "    'recall': recall_lr,\n",
    "    'fscore': fscore_lr,\n",
    "    'support': support_lr\n",
    "})\n",
    "\n",
    "class_report_df_lr"
   ],
   "metadata": {
    "collapsed": false,
    "ExecuteTime": {
     "end_time": "2023-10-26T08:02:37.364405400Z",
     "start_time": "2023-10-26T08:02:37.303863900Z"
    }
   },
   "id": "d9535eb7b33383ea"
  }
 ],
 "metadata": {
  "kernelspec": {
   "display_name": "Python 3",
   "language": "python",
   "name": "python3"
  },
  "language_info": {
   "codemirror_mode": {
    "name": "ipython",
    "version": 2
   },
   "file_extension": ".py",
   "mimetype": "text/x-python",
   "name": "python",
   "nbconvert_exporter": "python",
   "pygments_lexer": "ipython2",
   "version": "2.7.6"
  }
 },
 "nbformat": 4,
 "nbformat_minor": 5
}
